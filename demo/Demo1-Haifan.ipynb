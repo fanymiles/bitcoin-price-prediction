{
 "cells": [
  {
   "cell_type": "code",
   "execution_count": 1,
   "metadata": {
    "collapsed": true
   },
   "outputs": [],
   "source": [
    "import re\n",
    "import tweepy\n",
    "from tweepy import OAuthHandler\n",
    "import numpy as np\n",
    "from textblob import TextBlob\n",
    "import datetime\n",
    "import time\n"
   ]
  },
  {
   "cell_type": "code",
   "execution_count": 2,
   "metadata": {},
   "outputs": [],
   "source": [
    "class TwitterClient(object):\n",
    "    '''\n",
    "    Generic Twitter Class for sentiment analysis.\n",
    "    '''\n",
    "    def __init__(self):\n",
    "        '''\n",
    "        Class constructor or initialization method.\n",
    "        '''\n",
    "        # set twitter api credentials\n",
    "        consumer_key= 'MOe623rxcqck6x8y5XhzK8MJT'\n",
    "        consumer_secret= 'mcBq9Km1f3OYERRD6vKmOfWSgCjsqzXAreIsn8klxAtPIo40E7'\n",
    "        access_token='913787859630460928-RXF8NVN3gGbxD64NCZ7wBma5M2WPwlv'\n",
    "        access_token_secret='P4UU9I2DimdnUown2EM6p4WZ0ftdPNsysDNW6xGh0Ts4f'\n",
    "\n",
    "        # attempt authentication\n",
    "        try:\n",
    "            # create OAuthHandler object\n",
    "            self.auth = tweepy.OAuthHandler(consumer_key, consumer_secret)\n",
    "            # set access token and secret\n",
    "            self.auth.set_access_token(access_token, access_token_secret)\n",
    "            # create tweepy API object to fetch tweets\n",
    "            self.api = tweepy.API(self.auth)\n",
    "        except:\n",
    "            print(\"Error: Authentication Failed\")\n",
    " \n",
    "    def clean_tweet(self, tweet):\n",
    "        '''\n",
    "        Utility function to clean tweet text by removing links, special characters\n",
    "        using simple regex statements.\n",
    "        '''\n",
    "        return ' '.join(re.sub(\"(@[A-Za-z0-9]+)|([^0-9A-Za-z \\t])|(\\w+:\\/\\/\\S+)\", \" \", tweet).split())\n",
    " \n",
    "    def get_tweet_sentiment(self, tweet):\n",
    "        '''\n",
    "        Utility function to classify sentiment of passed tweet\n",
    "        using textblob's sentiment method\n",
    "        '''\n",
    "        # create TextBlob object of passed tweet text\n",
    "        analysis = TextBlob(self.clean_tweet(tweet))\n",
    "        # set sentiment\n",
    "        return analysis.sentiment.polarity\n",
    "    \n",
    "    def get_polarity(self, query, count = 100):\n",
    "        # run polarity analysis on tweets\n",
    "        polarity = 0\n",
    "        try:\n",
    "            # call twitter api to fetch tweets\n",
    "            fetched_tweets = self.api.search(q = query, count = count)\n",
    "            for tweet in fetched_tweets:\n",
    "                polarity += self.get_tweet_sentiment(tweet.text) * 1.0 / count\n",
    "            return polarity\n",
    "        except tweepy.TweepError as e:\n",
    "            # print error (if any)\n",
    "            print(\"Error : \" + str(e))\n",
    "\n",
    "    def get_tweets(self, query, count = 100):\n",
    "        '''\n",
    "        Main function to fetch tweets and parse them.\n",
    "        '''\n",
    "        # empty list to store parsed tweets\n",
    "        results = {}\n",
    "        positive = 0\n",
    "        negative = 0\n",
    "        ptweet = \"\"\n",
    "        ntweet = \"\"\n",
    "\n",
    "        try:\n",
    "            # call twitter api to fetch tweets\n",
    "            fetched_tweets = self.api.search(q = query, count = count)\n",
    " \n",
    "            # parsing tweets one by one\n",
    "            for tweet in fetched_tweets:\n",
    "                sentiment = self.get_tweet_sentiment(tweet.text)\n",
    "                # saving sentiment of tweet\n",
    "                if(sentiment > 0):\n",
    "                    positive += 1\n",
    "                    if positive == 1:\n",
    "                        ptweet = tweet.text\n",
    "                elif(sentiment < 0):\n",
    "                    negative += 1\n",
    "                    if negative == 1:\n",
    "                        ntweet = tweet.text\n",
    "\n",
    "            results[\"positive_tweet\"] = ptweet\n",
    "            results[\"negative_tweet\"] = ntweet\n",
    "            results[\"positive_percentage\"] = positive / 100.0\n",
    "            results[\"negative_percentage\"] = negative / 100.0\n",
    "            results[\"neutral_percentage\"] = (100 - positive - negative) / 100.0\n",
    "            # return a posive tweet, a negative tweet, the positive tweet percent and the negative tweet percent \n",
    "            return results\n",
    " \n",
    "        except tweepy.TweepError as e:\n",
    "            # print error (if any)\n",
    "            print(\"Error : \" + str(e))"
   ]
  },
  {
   "cell_type": "code",
   "execution_count": 3,
   "metadata": {},
   "outputs": [
    {
     "name": "stdout",
     "output_type": "stream",
     "text": [
      "\n",
      "\n",
      "Positive tweets: \n",
      "One person is probably responsible for almost 600 percent of Bitcoin's price rise https://t.co/lCjb6lKlfy\n",
      "\n",
      "FIVE AMA… https://t.co/d5jdKO1STy\n",
      "\n",
      "\n",
      "Negative tweets: \n",
      "ALERT: All cryptos going down at least 85% because of South Korea, China, Japan, Russia, USA and Europe ALL BANNING… https://t.co/wPYWp2xzN2\n",
      "\n",
      "Positive tweets percentage: 21.0%\n",
      "Negative tweets percentage: 49.0%\n",
      "Neutral tweets percentage: 30.0%\n"
     ]
    }
   ],
   "source": [
    "api = TwitterClient()\n",
    "# calling function to get tweets\n",
    "tweets = api.get_tweets(query = 'bitcoin, price, crypto')\n",
    "\n",
    "# printing a positive tweet\n",
    "print \"\\n\\nPositive tweets: \\n%s\" % tweets[\"positive_tweet\"]\n",
    "\n",
    "# printing a negative tweet\n",
    "print \"\\n\\nNegative tweets: \\n%s\\n\" % tweets[\"negative_tweet\"]\n",
    "\n",
    "# print the positve percentage\n",
    "print \"Positive tweets percentage: {}%\".format(100*tweets[\"positive_percentage\"])\n",
    "\n",
    "# print the negative tweets percentage\n",
    "print \"Negative tweets percentage: {}%\".format(100*tweets[\"negative_percentage\"])\n",
    "\n",
    "# print the neutral tweets percentage\n",
    "print \"Neutral tweets percentage: {}%\".format(100*tweets[\"neutral_percentage\"])"
   ]
  },
  {
   "cell_type": "code",
   "execution_count": 4,
   "metadata": {},
   "outputs": [
    {
     "name": "stdout",
     "output_type": "stream",
     "text": [
      "-0.156738305676\n"
     ]
    },
    {
     "ename": "KeyboardInterrupt",
     "evalue": "",
     "output_type": "error",
     "traceback": [
      "\u001b[0;31m---------------------------------------------------------------------------\u001b[0m",
      "\u001b[0;31mKeyboardInterrupt\u001b[0m                         Traceback (most recent call last)",
      "\u001b[0;32m<ipython-input-4-b1abf97c1bf5>\u001b[0m in \u001b[0;36m<module>\u001b[0;34m()\u001b[0m\n\u001b[1;32m      3\u001b[0m     \u001b[0mpolarity\u001b[0m \u001b[0;34m=\u001b[0m \u001b[0mapi\u001b[0m\u001b[0;34m.\u001b[0m\u001b[0mget_polarity\u001b[0m\u001b[0;34m(\u001b[0m\u001b[0mquery\u001b[0m\u001b[0;34m=\u001b[0m\u001b[0;34m[\u001b[0m\u001b[0;34m'bitcoin, price, crypto'\u001b[0m\u001b[0;34m]\u001b[0m\u001b[0;34m,\u001b[0m \u001b[0mcount\u001b[0m\u001b[0;34m=\u001b[0m\u001b[0;36m100\u001b[0m\u001b[0;34m)\u001b[0m\u001b[0;34m\u001b[0m\u001b[0m\n\u001b[1;32m      4\u001b[0m     \u001b[0;32mprint\u001b[0m \u001b[0mpolarity\u001b[0m\u001b[0;34m\u001b[0m\u001b[0m\n\u001b[0;32m----> 5\u001b[0;31m     \u001b[0mtime\u001b[0m\u001b[0;34m.\u001b[0m\u001b[0msleep\u001b[0m\u001b[0;34m(\u001b[0m\u001b[0;36m60\u001b[0m\u001b[0;34m)\u001b[0m\u001b[0;34m\u001b[0m\u001b[0m\n\u001b[0m",
      "\u001b[0;31mKeyboardInterrupt\u001b[0m: "
     ]
    }
   ],
   "source": [
    "while True:\n",
    "    # fetch tweets by keywords\n",
    "    polarity = api.get_polarity(query=['bitcoin, price, crypto'], count=100)\n",
    "    print polarity\n",
    "    time.sleep(60)"
   ]
  },
  {
   "cell_type": "code",
   "execution_count": null,
   "metadata": {
    "collapsed": true
   },
   "outputs": [],
   "source": []
  }
 ],
 "metadata": {
  "kernelspec": {
   "display_name": "Python 2",
   "language": "python",
   "name": "python2"
  },
  "language_info": {
   "codemirror_mode": {
    "name": "ipython",
    "version": 2
   },
   "file_extension": ".py",
   "mimetype": "text/x-python",
   "name": "python",
   "nbconvert_exporter": "python",
   "pygments_lexer": "ipython2",
   "version": "2.7.13"
  }
 },
 "nbformat": 4,
 "nbformat_minor": 2
}
